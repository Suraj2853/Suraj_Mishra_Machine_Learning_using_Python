{
  "nbformat": 4,
  "nbformat_minor": 0,
  "metadata": {
    "colab": {
      "provenance": [],
      "collapsed_sections": []
    },
    "kernelspec": {
      "name": "python3",
      "display_name": "Python 3"
    },
    "language_info": {
      "name": "python"
    }
  },
  "cells": [
    {
      "cell_type": "code",
      "source": [
        "import time\n",
        "import webbrowser\n",
        "\n",
        "breaks = 3\n",
        "\n",
        "for i in range(breaks):\n",
        "    time.sleep(1)\n",
        "    webbrowser.open('https://www.linkedin.com/in/shivam1482/', new = 2)"
      ],
      "metadata": {
        "id": "uXUdyKchV43T"
      },
      "execution_count": 27,
      "outputs": []
    }
  ]
}